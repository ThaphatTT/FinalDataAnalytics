{
 "cells": [
  {
   "cell_type": "markdown",
   "metadata": {},
   "source": [
    "# นาย ธภัทร มีชัยธนา รหัส 6402539"
   ]
  },
  {
   "cell_type": "code",
   "execution_count": null,
   "metadata": {},
   "outputs": [],
   "source": []
  }
 ],
 "metadata": {
  "language_info": {
   "name": "python"
  }
 },
 "nbformat": 4,
 "nbformat_minor": 2
}
