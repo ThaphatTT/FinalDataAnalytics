{
 "cells": [
  {
   "cell_type": "markdown",
   "metadata": {},
   "source": [
    "# นาย ธภัทร มีชัยธนา รหัส 6402539"
   ]
  },
  {
   "cell_type": "markdown",
   "metadata": {},
   "source": [
    "# สร้างตัวแปรแล้วทำการ Connect server service ของ MongoDB ที่ทำการ import มาจาก pymongo\n",
    "# แล้วทำการสร้างตัวแปรที่ใส่ชื่อฐานข้อมูลแล้วเก็บไว้ในตัวแปร และ ใช้ตัวแปรที่เก็บชื่อฐานข้อมูลมากำหนดชื่อของ collection แล้วเก็บในอีกตัวแปรนึง"
   ]
  },
  {
   "cell_type": "code",
   "execution_count": 3,
   "metadata": {},
   "outputs": [],
   "source": [
    "from pymongo import MongoClient\n",
    "\n",
    "client = MongoClient('mongodb://localhost:27017/')\n",
    "filter={}\n",
    "\n",
    "mydb = client['6402539_Final']\n",
    "mycol = mydb['Gun_Deaths_In_America']\n"
   ]
  },
  {
   "cell_type": "code",
   "execution_count": 5,
   "metadata": {},
   "outputs": [],
   "source": [
    "import pandas as pd\n",
    "import json"
   ]
  },
  {
   "cell_type": "code",
   "execution_count": null,
   "metadata": {},
   "outputs": [],
   "source": []
  }
 ],
 "metadata": {
  "kernelspec": {
   "display_name": "Python 3",
   "language": "python",
   "name": "python3"
  },
  "language_info": {
   "codemirror_mode": {
    "name": "ipython",
    "version": 3
   },
   "file_extension": ".py",
   "mimetype": "text/x-python",
   "name": "python",
   "nbconvert_exporter": "python",
   "pygments_lexer": "ipython3",
   "version": "3.11.5"
  }
 },
 "nbformat": 4,
 "nbformat_minor": 2
}
